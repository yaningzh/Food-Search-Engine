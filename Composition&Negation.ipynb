{
  "nbformat": 4,
  "nbformat_minor": 0,
  "metadata": {
    "colab": {
      "provenance": []
    },
    "kernelspec": {
      "name": "python3",
      "display_name": "Python 3"
    },
    "language_info": {
      "name": "python"
    }
  },
  "cells": [
    {
      "cell_type": "markdown",
      "source": [
        "# New Feature for Interface: composition & negation for different fields.\n",
        "\n",
        "In this notebook, we use bm25 to test the feature. In search_demo.ipynb, we replace bm25 with our search algorithm."
      ],
      "metadata": {
        "id": "fA9KhfNuDmT-"
      }
    },
    {
      "cell_type": "markdown",
      "source": [
        "## install and import packages"
      ],
      "metadata": {
        "id": "pGMBA-AT0IzT"
      }
    },
    {
      "cell_type": "code",
      "source": [
        "!pip install python-terrier"
      ],
      "metadata": {
        "id": "_EiwULae0FaL"
      },
      "execution_count": null,
      "outputs": []
    },
    {
      "cell_type": "code",
      "execution_count": null,
      "metadata": {
        "id": "FJNwzhj2yB1A",
        "colab": {
          "base_uri": "https://localhost:8080/"
        },
        "outputId": "a9556d5d-0b2d-4981-b39d-b36e1e4cc08b"
      },
      "outputs": [
        {
          "output_type": "stream",
          "name": "stdout",
          "text": [
            "terrier-assemblies 5.7 jar-with-dependencies not found, downloading to /root/.pyterrier...\n",
            "Done\n",
            "terrier-python-helper 0.0.7 jar not found, downloading to /root/.pyterrier...\n",
            "Done\n"
          ]
        },
        {
          "output_type": "stream",
          "name": "stderr",
          "text": [
            "PyTerrier 0.9.1 has loaded Terrier 5.7 (built by craigm on 2022-11-10 18:30) and terrier-helper 0.0.7\n",
            "\n"
          ]
        }
      ],
      "source": [
        "import pandas as pd\n",
        "# Helpful for showing indexing information\n",
        "pd.set_option('display.max_colwidth', 150)\n",
        "import csv\n",
        "import pyterrier as pt\n",
        "import os\n",
        "if not pt.started():\n",
        "    pt.init()"
      ]
    },
    {
      "cell_type": "markdown",
      "source": [
        "## read dataset and create index for attributes"
      ],
      "metadata": {
        "id": "n8h4ili_0Ny6"
      }
    },
    {
      "cell_type": "code",
      "source": [
        "recipe_dataset = pd.read_csv('/content/recipes.csv')"
      ],
      "metadata": {
        "id": "NN_Sddkk8ACe"
      },
      "execution_count": null,
      "outputs": []
    },
    {
      "cell_type": "code",
      "source": [
        "attributes = [\"title\",\"ingredients\"]\n",
        "recipe_index = dict()"
      ],
      "metadata": {
        "id": "W0V1ZrJe9n6W"
      },
      "execution_count": null,
      "outputs": []
    },
    {
      "cell_type": "code",
      "source": [
        "import os\n",
        "for attribute in attributes:\n",
        "  index_path = os.path.join(\"/content\", attribute)\n",
        "  pd_indexer = pt.DFIndexer(index_path)\n",
        "  indexref = pd_indexer.index(recipe_dataset[attribute].astype(str), recipe_dataset[\"docno\"])\n",
        "  recipe_index[attribute] = pt.IndexFactory.of(indexref)"
      ],
      "metadata": {
        "id": "B9n5UXBOMfHi",
        "colab": {
          "base_uri": "https://localhost:8080/"
        },
        "outputId": "338a8ae3-54c6-4fb5-c6e6-eb2bf36dc1d2"
      },
      "execution_count": null,
      "outputs": [
        {
          "output_type": "stream",
          "name": "stdout",
          "text": [
            "00:41:03.966 [main] WARN org.terrier.structures.indexing.Indexer - Adding an empty document to the index (vQ0ALYW) - further warnings are suppressed\n",
            "00:41:08.867 [main] WARN org.terrier.structures.indexing.Indexer - Indexed 1 empty documents\n",
            "00:41:13.510 [main] WARN org.terrier.structures.indexing.Indexer - Adding an empty document to the index (xIk3Wuw) - further warnings are suppressed\n",
            "00:41:34.957 [main] WARN org.terrier.structures.indexing.Indexer - Indexed 1 empty documents\n"
          ]
        }
      ]
    },
    {
      "cell_type": "code",
      "source": [
        "doc_list = list(recipe_dataset[\"docno\"])\n",
        "doc_dict = {}\n",
        "for i in range(len(doc_list)):\n",
        "  doc_dict[doc_list[i]] = i"
      ],
      "metadata": {
        "id": "4crIReyXSi51"
      },
      "execution_count": null,
      "outputs": []
    },
    {
      "cell_type": "markdown",
      "source": [
        "## ranking"
      ],
      "metadata": {
        "id": "xJSRyLcmM1sf"
      }
    },
    {
      "cell_type": "code",
      "source": [
        "import numpy as np\n",
        "\n",
        "def normalize(raw_scores):\n",
        "  min = np.min(raw_scores)\n",
        "  max = np.max(raw_scores)\n",
        "  norm_scores = (raw_scores-min)/max\n",
        "\n",
        "  return norm_scores\n"
      ],
      "metadata": {
        "id": "8x09D15G9ohF"
      },
      "execution_count": null,
      "outputs": []
    },
    {
      "cell_type": "code",
      "source": [
        "full_query = {\"title\":\"pizza\", \"ingredients\":\"oil\", \"no-ingredients\":\"sesame\"}\n",
        "attribute_weights = {\"title\":1, \"ingredients\":1, \"no-ingredients\":-100000}\n",
        "number_filter = {\"rating\":[4, 5], \"calories\":[200, 1000]}\n",
        "\n",
        "doc_ranking = list(recipe_dataset[\"docno\"])\n",
        "output_num = 10\n",
        "all_samples = recipe_dataset.shape[0]"
      ],
      "metadata": {
        "id": "WCswWfGywq3b"
      },
      "execution_count": null,
      "outputs": []
    },
    {
      "cell_type": "code",
      "source": [
        "doc_ranking_dict = dict()\n",
        "for i in range(len(doc_ranking)):\n",
        "  doc_ranking_dict[doc_ranking[i]] = 0\n",
        "\n",
        "for attribute in full_query:\n",
        "\n",
        "  query = pd.DataFrame([[attribute, full_query[attribute]]], columns=[\"qid\", \"query\"])\n",
        "  if attribute == \"no-ingredients\":\n",
        "    bm25 = pt.BatchRetrieve(recipe_index[\"ingredients\"], wmodel=\"BM25\",num_results=5000)\n",
        "  else:\n",
        "    bm25 = pt.BatchRetrieve(recipe_index[attribute], wmodel=\"BM25\", num_results=5000)\n",
        "\n",
        "  results = bm25.transform(query).sort_values('score',ascending = False)\n",
        "  raw_scores = list(results[\"score\"])\n",
        "  norm_scores = normalize(raw_scores)\n",
        "  attribute_weight = attribute_weights[attribute]\n",
        "\n",
        "  score = dict()\n",
        "  for i in range(len(doc_ranking)):\n",
        "    score[doc_ranking[i]] = 0\n",
        "  for i in range(len(results[\"docno\"])):\n",
        "    score[results[\"docno\"][i]] = norm_scores[i]  \n",
        "\n",
        "  for idx, docno in enumerate(score):\n",
        "    doc_ranking_dict[docno] += attribute_weight*score[docno]  \n"
      ],
      "metadata": {
        "id": "6uIzcslTxCJ6"
      },
      "execution_count": null,
      "outputs": []
    },
    {
      "cell_type": "code",
      "source": [
        "sorted_ranking  = list(sorted(doc_ranking_dict.items(), key=lambda item: item[1],reverse = True))\n",
        "output_docno = []\n",
        "\n",
        "i = 0\n",
        "while(True):\n",
        "  docno = sorted_ranking[i][0]\n",
        "  result = recipe_dataset.iloc[doc_dict[docno]]\n",
        "  rating = result[4]\n",
        "  if type(result[9]) != str:\n",
        "    continue\n",
        "  else:\n",
        "    calories = int(result[9].split(\" \")[0])\n",
        "\n",
        "  if rating>=number_filter[\"rating\"][0] and rating<=number_filter[\"rating\"][1]:\n",
        "    if calories>=number_filter[\"calories\"][0] and calories<=number_filter[\"calories\"][1]:\n",
        "      output_docno.append(docno)\n",
        "  i = i+1\n",
        "  if len(output_docno) == output_num or i == len(sorted_ranking):\n",
        "    break\n",
        "\n",
        "output_docno"
      ],
      "metadata": {
        "colab": {
          "base_uri": "https://localhost:8080/"
        },
        "id": "dg9SG3tz_j27",
        "outputId": "96caf837-13f0-4bb7-f802-a713bcb26557"
      },
      "execution_count": null,
      "outputs": [
        {
          "output_type": "execute_result",
          "data": {
            "text/plain": [
              "['fAI29y5',\n",
              " 'vWkTtWr',\n",
              " '7eNZUqK',\n",
              " 'YHtcx9T',\n",
              " 'Fd3HTS6',\n",
              " '3IJ9LHs',\n",
              " 'JzhzP2O',\n",
              " 'Dn8uO4J',\n",
              " 'zzbweKt',\n",
              " 'eYaGaFA']"
            ]
          },
          "metadata": {},
          "execution_count": 277
        }
      ]
    }
  ]
}