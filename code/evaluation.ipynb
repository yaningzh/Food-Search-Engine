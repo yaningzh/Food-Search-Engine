{
  "nbformat": 4,
  "nbformat_minor": 0,
  "metadata": {
    "colab": {
      "provenance": []
    },
    "kernelspec": {
      "name": "python3",
      "display_name": "Python 3"
    },
    "language_info": {
      "name": "python"
    }
  },
  "cells": [
    {
      "cell_type": "markdown",
      "source": [
        "# Evaluation of Our Method"
      ],
      "metadata": {
        "id": "GjVykGetzA6P"
      }
    },
    {
      "cell_type": "markdown",
      "source": [
        "## install and import packages"
      ],
      "metadata": {
        "id": "SnTj0kXLHQEk"
      }
    },
    {
      "cell_type": "code",
      "source": [
        "!pip install python-terrier"
      ],
      "metadata": {
        "id": "_EiwULae0FaL"
      },
      "execution_count": null,
      "outputs": []
    },
    {
      "cell_type": "code",
      "source": [
        "!pip install fastrank"
      ],
      "metadata": {
        "id": "9roibtG9W5hm",
        "colab": {
          "base_uri": "https://localhost:8080/"
        },
        "outputId": "2a1811bb-b5a3-4bb6-c662-ff3ba3926a9f"
      },
      "execution_count": null,
      "outputs": [
        {
          "output_type": "stream",
          "name": "stdout",
          "text": [
            "Looking in indexes: https://pypi.org/simple, https://us-python.pkg.dev/colab-wheels/public/simple/\n",
            "Collecting fastrank\n",
            "  Downloading fastrank-0.7.0-py3-none-manylinux2010_x86_64.whl (891 kB)\n",
            "\u001b[K     |████████████████████████████████| 891 kB 6.0 MB/s \n",
            "\u001b[?25hRequirement already satisfied: numpy in /usr/local/lib/python3.8/dist-packages (from fastrank) (1.21.6)\n",
            "Requirement already satisfied: cffi in /usr/local/lib/python3.8/dist-packages (from fastrank) (1.15.1)\n",
            "Requirement already satisfied: attrs in /usr/local/lib/python3.8/dist-packages (from fastrank) (22.1.0)\n",
            "Requirement already satisfied: pycparser in /usr/local/lib/python3.8/dist-packages (from cffi->fastrank) (2.21)\n",
            "Installing collected packages: fastrank\n",
            "Successfully installed fastrank-0.7.0\n"
          ]
        }
      ]
    },
    {
      "cell_type": "code",
      "source": [
        "!pip install lightgbm"
      ],
      "metadata": {
        "id": "8k9AwNUDXDYH",
        "colab": {
          "base_uri": "https://localhost:8080/"
        },
        "outputId": "43e897dd-646e-432c-baf1-bf1bbc2a4464"
      },
      "execution_count": null,
      "outputs": [
        {
          "output_type": "stream",
          "name": "stdout",
          "text": [
            "Looking in indexes: https://pypi.org/simple, https://us-python.pkg.dev/colab-wheels/public/simple/\n",
            "Requirement already satisfied: lightgbm in /usr/local/lib/python3.8/dist-packages (2.2.3)\n",
            "Requirement already satisfied: scipy in /usr/local/lib/python3.8/dist-packages (from lightgbm) (1.7.3)\n",
            "Requirement already satisfied: scikit-learn in /usr/local/lib/python3.8/dist-packages (from lightgbm) (1.0.2)\n",
            "Requirement already satisfied: numpy in /usr/local/lib/python3.8/dist-packages (from lightgbm) (1.21.6)\n",
            "Requirement already satisfied: joblib>=0.11 in /usr/local/lib/python3.8/dist-packages (from scikit-learn->lightgbm) (1.2.0)\n",
            "Requirement already satisfied: threadpoolctl>=2.0.0 in /usr/local/lib/python3.8/dist-packages (from scikit-learn->lightgbm) (3.1.0)\n"
          ]
        }
      ]
    },
    {
      "cell_type": "code",
      "execution_count": null,
      "metadata": {
        "id": "FJNwzhj2yB1A"
      },
      "outputs": [],
      "source": [
        "import pandas as pd\n",
        "import pyterrier as pt\n",
        "import os"
      ]
    },
    {
      "cell_type": "code",
      "source": [
        "if not pt.started():\n",
        "    pt.init()"
      ],
      "metadata": {
        "colab": {
          "base_uri": "https://localhost:8080/"
        },
        "id": "-gyMHngL0jwQ",
        "outputId": "9a2c72da-b33e-40d9-b636-765882884749"
      },
      "execution_count": null,
      "outputs": [
        {
          "output_type": "stream",
          "name": "stdout",
          "text": [
            "terrier-assemblies 5.7 jar-with-dependencies not found, downloading to /root/.pyterrier...\n",
            "Done\n",
            "terrier-python-helper 0.0.7 jar not found, downloading to /root/.pyterrier...\n",
            "Done\n"
          ]
        },
        {
          "output_type": "stream",
          "name": "stderr",
          "text": [
            "PyTerrier 0.9.1 has loaded Terrier 5.7 (built by craigm on 2022-11-10 18:30) and terrier-helper 0.0.7\n",
            "\n"
          ]
        }
      ]
    },
    {
      "cell_type": "code",
      "source": [
        "import csv\n",
        "import pandas as pd\n",
        "import numpy as np\n",
        "import string\n",
        "import random"
      ],
      "metadata": {
        "id": "eZT_Rb1cVGF2"
      },
      "execution_count": null,
      "outputs": []
    },
    {
      "cell_type": "markdown",
      "source": [
        "## read and preprocess data"
      ],
      "metadata": {
        "id": "Z45lfbyWHVjh"
      }
    },
    {
      "cell_type": "code",
      "source": [
        "r_df = pd.read_csv(\"/content/drive/MyDrive/22fall/549/549project/final/recipes.csv\")"
      ],
      "metadata": {
        "id": "M4Xv1zcx7lKk"
      },
      "execution_count": null,
      "outputs": []
    },
    {
      "cell_type": "code",
      "source": [
        "title_list = []\n",
        "for i in range(len(r_df)):\n",
        "  title_list.append([str(r_df[\"title\"][i]),str(r_df[\"docno\"][i]),str(r_df[\"rating\"][i]),str(r_df[\"ingredients\"][i]),str(r_df[\"instructions\"][i])])\n",
        "re_df = pd.DataFrame(title_list, columns =[\"title\",\"docno\",\"rating\",\"ingredients\",\"instructions\"])"
      ],
      "metadata": {
        "id": "RFRrj2Ns7wpM"
      },
      "execution_count": null,
      "outputs": []
    },
    {
      "cell_type": "code",
      "source": [
        "all_queries = pd.read_csv('/content/drive/MyDrive/22fall/549/549project/update/all_queries.csv')"
      ],
      "metadata": {
        "id": "so8T9snbpoDI"
      },
      "execution_count": null,
      "outputs": []
    },
    {
      "cell_type": "code",
      "source": [
        "qrels = pd.read_csv('/content/drive/MyDrive/22fall/549/549project/update/all_qrels.csv')"
      ],
      "metadata": {
        "id": "ZOujcbWrTWlW"
      },
      "execution_count": null,
      "outputs": []
    },
    {
      "cell_type": "markdown",
      "source": [
        "## create index"
      ],
      "metadata": {
        "id": "aoxX7DgEHdI3"
      }
    },
    {
      "cell_type": "code",
      "source": [
        "recipe_indexer = pt.DFIndexer(\"./recipe\")\n",
        "indexref = recipe_indexer.index(re_df[\"title\"], re_df)\n",
        "recipe_index = pt.IndexFactory.of(indexref)"
      ],
      "metadata": {
        "colab": {
          "base_uri": "https://localhost:8080/"
        },
        "id": "UCcsUvCO3-qg",
        "outputId": "083d60f2-1559-45c0-c6e7-92fea20ac228"
      },
      "execution_count": null,
      "outputs": [
        {
          "output_type": "stream",
          "name": "stdout",
          "text": [
            "22:00:23.086 [main] WARN org.terrier.structures.indexing.Indexer - Adding an empty document to the index (vQ0ALYW) - further warnings are suppressed\n",
            "22:00:28.661 [main] WARN org.terrier.structures.indexing.Indexer - Indexed 1 empty documents\n"
          ]
        }
      ]
    },
    {
      "cell_type": "markdown",
      "source": [
        "## functions of our weighting and length weighting (for random system)"
      ],
      "metadata": {
        "id": "R5C2g9L8Hjdi"
      }
    },
    {
      "cell_type": "code",
      "source": [
        "def my_custom_weighting(keyFreq, posting, entryStats, collStats):\n",
        "    '''\n",
        "    Computes the Pivoted Normalization score of this document for a given query\n",
        "    \n",
        "    :param keyFrequency(float): the weight of the term in the query, usually 1 except during PRF.\n",
        "    :param posting(Posting): access to the information about the occurrence of the term in the current document (frequency, document length etc).\n",
        "    :param entryStats(EntryStatistics): access to the information about the occurrence of the term in the whole index (document frequency, etc.).\n",
        "    :param collStats(CollectionStatistics): access to the information about the index as a whole (number of documents, etc).\n",
        "    :return: the Pivoted Normalization score of this document for the given query\n",
        "    '''\n",
        "    import numpy as np\n",
        "    k0 = 0.2\n",
        "    k1 = 2\n",
        "    k2 = 0.5\n",
        "    b = 0.75\n",
        "    k3 = 5\n",
        "    df = entryStats.getDocumentFrequency()\n",
        "    dl = posting.getDocumentLength()\n",
        "    tf = posting.getFrequency()\n",
        "    N = collStats.getNumberOfDocuments()\n",
        "    avdl = collStats.getAverageDocumentLength()\n",
        "    my_score = (np.log((N + 1) / df)) * ((k1 + 1) * tf) / (k1 * (1 - b + b * dl / avdl) + tf) * ((k3 + 1) * keyFreq) / (k3 + keyFreq)\n",
        "    return my_score"
      ],
      "metadata": {
        "id": "dmExzV8RjyGl"
      },
      "execution_count": null,
      "outputs": []
    },
    {
      "cell_type": "code",
      "source": [
        "def length_weighting(keyFreq, posting, entryStats, collStats):\n",
        "    '''\n",
        "    Computes the Pivoted Normalization score of this document for a given query\n",
        "    \n",
        "    :param keyFrequency(float): the weight of the term in the query, usually 1 except during PRF.\n",
        "    :param posting(Posting): access to the information about the occurrence of the term in the current document (frequency, document length etc).\n",
        "    :param entryStats(EntryStatistics): access to the information about the occurrence of the term in the whole index (document frequency, etc.).\n",
        "    :param collStats(CollectionStatistics): access to the information about the index as a whole (number of documents, etc).\n",
        "    :return: the Pivoted Normalization score of this document for the given query\n",
        "    '''\n",
        "    \n",
        "    df = entryStats.getDocumentFrequency()\n",
        "    dl = posting.getDocumentLength()\n",
        "    tf = posting.getFrequency()\n",
        "    N = collStats.getNumberOfDocuments()\n",
        "    avdl = collStats.getAverageDocumentLength()\n",
        "    return dl"
      ],
      "metadata": {
        "id": "jANqrFoZnaNb"
      },
      "execution_count": null,
      "outputs": []
    },
    {
      "cell_type": "markdown",
      "source": [
        "## learning to rank"
      ],
      "metadata": {
        "id": "6DRx-_s9HtaM"
      }
    },
    {
      "cell_type": "code",
      "source": [
        "RANK_CUTOFF = 10\n",
        "SEED = 42\n",
        "\n",
        "from sklearn.model_selection import train_test_split\n",
        "\n",
        "tr_va_topics, test_topics = train_test_split(all_queries, test_size=20, random_state=SEED)\n",
        "train_topics, valid_topics =  train_test_split(tr_va_topics, test_size=20, random_state=SEED)"
      ],
      "metadata": {
        "id": "FdkASYSWWB9X"
      },
      "execution_count": null,
      "outputs": []
    },
    {
      "cell_type": "code",
      "source": [
        "my_weighting = pt.BatchRetrieve(recipe_index, wmodel=my_custom_weighting)\n",
        "random_system = pt.BatchRetrieve(recipe_index, wmodel=length_weighting)\n",
        "tfidf = pt.BatchRetrieve(recipe_index, wmodel=\"TF_IDF\")\n",
        "bm25 = pt.BatchRetrieve(recipe_index, wmodel=\"BM25\")\n",
        "\n",
        "ltr_feats1 = (my_weighting) >> pt.text.get_text(recipe_index, [\"title\",\"docno\",\"rating\",\"ingredients\",\"instructions\"]) >> (\n",
        "    pt.transformer.IdentityTransformer()\n",
        "    **\n",
        "    bm25\n",
        "    **\n",
        "    tfidf\n",
        "    **\n",
        "    pt.BatchRetrieve(recipe_index, wmodel=\"CoordinateMatch\")\n",
        "    **\n",
        "    (pt.apply.doc_score(lambda row: int(row[\"rating\"] is not None and float(row[\"rating\"]) >= 4.5)))\n",
        "    **\n",
        "    (pt.text.scorer(body_attr=\"ingredients\", takes='docs', wmodel='BM25'))\n",
        "    **\n",
        "    (pt.text.scorer(body_attr=\"instructions\", takes='docs', wmodel='BM25'))\n",
        ")\n",
        "\n",
        "fnames=[\"my_weighting\", \"BM25\", \"TF-IDF\", \"CoordinateMatch\", \"rating\", \"ingredients\", \"instructions\"]"
      ],
      "metadata": {
        "id": "cWO5F5g53PKl"
      },
      "execution_count": null,
      "outputs": []
    },
    {
      "cell_type": "code",
      "source": [
        "import fastrank\n",
        "\n",
        "train_request = fastrank.TrainRequest.coordinate_ascent()\n",
        "\n",
        "params = train_request.params\n",
        "params.init_random = True\n",
        "params.normalize = True\n",
        "params.seed = 1234567\n",
        "\n",
        "ca_pipe = ltr_feats1 >> pt.ltr.apply_learned_model(train_request, form='fastrank')\n",
        "\n",
        "%time ca_pipe.fit(train_topics, qrels)"
      ],
      "metadata": {
        "id": "QF1uRLaBW4CX",
        "colab": {
          "base_uri": "https://localhost:8080/"
        },
        "outputId": "19c1286b-b8af-46c7-d4df-7ba753843561"
      },
      "execution_count": null,
      "outputs": [
        {
          "output_type": "stream",
          "name": "stdout",
          "text": [
            "22:41:19.655 [main] WARN org.terrier.querying.ApplyTermPipeline - The index has no termpipelines configuration, and no control configuration is found. Defaulting to global termpipelines configuration of 'Stopwords,PorterStemmer'. Set a termpipelines control to remove this warning.\n",
            "22:41:28.846 [main] WARN org.terrier.querying.ApplyTermPipeline - The index has no termpipelines configuration, and no control configuration is found. Defaulting to global termpipelines configuration of 'Stopwords,PorterStemmer'. Set a termpipelines control to remove this warning.\n",
            "CPU times: user 1min 3s, sys: 339 ms, total: 1min 3s\n",
            "Wall time: 57.8 s\n"
          ]
        }
      ]
    },
    {
      "cell_type": "code",
      "source": [
        "from sklearn.ensemble import RandomForestRegressor\n",
        "\n",
        "rf = RandomForestRegressor(n_estimators=400, verbose=1, random_state=SEED, n_jobs=2)\n",
        "\n",
        "rf_pipe = ltr_feats1 >> pt.ltr.apply_learned_model(rf)\n",
        "\n",
        "%time rf_pipe.fit(train_topics, qrels)"
      ],
      "metadata": {
        "colab": {
          "base_uri": "https://localhost:8080/"
        },
        "id": "pfCd0aaUVrPy",
        "outputId": "aef85014-37cd-4227-80b8-5941c9f3322b"
      },
      "execution_count": null,
      "outputs": [
        {
          "output_type": "stream",
          "name": "stdout",
          "text": [
            "22:42:18.475 [main] WARN org.terrier.querying.ApplyTermPipeline - The index has no termpipelines configuration, and no control configuration is found. Defaulting to global termpipelines configuration of 'Stopwords,PorterStemmer'. Set a termpipelines control to remove this warning.\n",
            "22:42:27.367 [main] WARN org.terrier.querying.ApplyTermPipeline - The index has no termpipelines configuration, and no control configuration is found. Defaulting to global termpipelines configuration of 'Stopwords,PorterStemmer'. Set a termpipelines control to remove this warning.\n"
          ]
        },
        {
          "output_type": "stream",
          "name": "stderr",
          "text": [
            "[Parallel(n_jobs=2)]: Using backend ThreadingBackend with 2 concurrent workers.\n",
            "[Parallel(n_jobs=2)]: Done  46 tasks      | elapsed:    2.0s\n",
            "[Parallel(n_jobs=2)]: Done 196 tasks      | elapsed:    4.8s\n"
          ]
        },
        {
          "output_type": "stream",
          "name": "stdout",
          "text": [
            "CPU times: user 1min 4s, sys: 552 ms, total: 1min 4s\n",
            "Wall time: 57 s\n"
          ]
        },
        {
          "output_type": "stream",
          "name": "stderr",
          "text": [
            "[Parallel(n_jobs=2)]: Done 400 out of 400 | elapsed:    8.4s finished\n"
          ]
        }
      ]
    },
    {
      "cell_type": "code",
      "source": [
        "import lightgbm as lgb\n",
        "\n",
        "# this configures LightGBM as LambdaMART\n",
        "lmart_l = lgb.LGBMRanker(\n",
        "    task=\"train\",\n",
        "    silent=False,\n",
        "    min_data_in_leaf=1,\n",
        "    min_sum_hessian_in_leaf=1,\n",
        "    max_bin=255,\n",
        "    num_leaves=31,\n",
        "    objective=\"lambdarank\",\n",
        "    metric=\"ndcg\",\n",
        "    ndcg_eval_at=[10],\n",
        "    ndcg_at=[10],\n",
        "    eval_at=[10],\n",
        "    learning_rate= .1,\n",
        "    importance_type=\"gain\",\n",
        "    num_iterations=100,\n",
        "    early_stopping_rounds=5\n",
        ")\n",
        "\n",
        "lmart_x_pipe = ltr_feats1 >> pt.ltr.apply_learned_model(lmart_l, form=\"ltr\", fit_kwargs={'eval_at':[20]})\n",
        "\n",
        "%time lmart_x_pipe.fit(train_topics, qrels, valid_topics, qrels)"
      ],
      "metadata": {
        "colab": {
          "base_uri": "https://localhost:8080/"
        },
        "id": "Wo0hrBmjXC0B",
        "outputId": "32be58e3-91d5-4067-faf5-9fb330a57d02"
      },
      "execution_count": null,
      "outputs": [
        {
          "output_type": "stream",
          "name": "stdout",
          "text": [
            "22:43:13.743 [main] WARN org.terrier.querying.ApplyTermPipeline - The index has no termpipelines configuration, and no control configuration is found. Defaulting to global termpipelines configuration of 'Stopwords,PorterStemmer'. Set a termpipelines control to remove this warning.\n",
            "22:43:22.514 [main] WARN org.terrier.querying.ApplyTermPipeline - The index has no termpipelines configuration, and no control configuration is found. Defaulting to global termpipelines configuration of 'Stopwords,PorterStemmer'. Set a termpipelines control to remove this warning.\n",
            "22:44:01.765 [main] WARN org.terrier.querying.ApplyTermPipeline - The index has no termpipelines configuration, and no control configuration is found. Defaulting to global termpipelines configuration of 'Stopwords,PorterStemmer'. Set a termpipelines control to remove this warning.\n",
            "22:44:10.673 [main] WARN org.terrier.querying.ApplyTermPipeline - The index has no termpipelines configuration, and no control configuration is found. Defaulting to global termpipelines configuration of 'Stopwords,PorterStemmer'. Set a termpipelines control to remove this warning.\n"
          ]
        },
        {
          "output_type": "stream",
          "name": "stderr",
          "text": [
            "/usr/local/lib/python3.8/dist-packages/lightgbm/engine.py:118: UserWarning: Found `num_iterations` in params. Will use it instead of argument\n",
            "  warnings.warn(\"Found `{}` in params. Will use it instead of argument\".format(alias))\n",
            "/usr/local/lib/python3.8/dist-packages/lightgbm/engine.py:123: UserWarning: Found `early_stopping_rounds` in params. Will use it instead of argument\n",
            "  warnings.warn(\"Found `{}` in params. Will use it instead of argument\".format(alias))\n"
          ]
        },
        {
          "output_type": "stream",
          "name": "stdout",
          "text": [
            "[1]\tvalid_0's ndcg@20: 0.698919\n",
            "Training until validation scores don't improve for 5 rounds.\n",
            "[2]\tvalid_0's ndcg@20: 0.828572\n",
            "[3]\tvalid_0's ndcg@20: 0.826599\n",
            "[4]\tvalid_0's ndcg@20: 0.822022\n",
            "[5]\tvalid_0's ndcg@20: 0.818633\n",
            "[6]\tvalid_0's ndcg@20: 0.831481\n",
            "[7]\tvalid_0's ndcg@20: 0.819114\n",
            "[8]\tvalid_0's ndcg@20: 0.817823\n",
            "[9]\tvalid_0's ndcg@20: 0.828736\n",
            "[10]\tvalid_0's ndcg@20: 0.829943\n",
            "[11]\tvalid_0's ndcg@20: 0.829917\n",
            "Early stopping, best iteration is:\n",
            "[6]\tvalid_0's ndcg@20: 0.831481\n",
            "CPU times: user 1min 38s, sys: 898 ms, total: 1min 38s\n",
            "Wall time: 1min 34s\n"
          ]
        }
      ]
    },
    {
      "cell_type": "code",
      "source": [
        "pt.Experiment(\n",
        "    [ca_pipe, rf_pipe, lmart_x_pipe, bm25, tfidf, random_system],\n",
        "    test_topics,\n",
        "    qrels,\n",
        "    eval_metrics=[\"map\", \"P_5\", \"ndcg\", \"ndcg_cut_10\"],\n",
        "    names=[\"Coordinate Ascent\", \"Random Forest\", \"LambdaMART\", \"BM25\", \"TF-IDF\", \"Random System\"]\n",
        ")"
      ],
      "metadata": {
        "colab": {
          "base_uri": "https://localhost:8080/",
          "height": 431
        },
        "id": "6cBauRWuC2HT",
        "outputId": "22f016e0-46f7-4372-be77-35531c27afa1"
      },
      "execution_count": null,
      "outputs": [
        {
          "output_type": "stream",
          "name": "stdout",
          "text": [
            "22:44:52.877 [main] WARN org.terrier.querying.ApplyTermPipeline - The index has no termpipelines configuration, and no control configuration is found. Defaulting to global termpipelines configuration of 'Stopwords,PorterStemmer'. Set a termpipelines control to remove this warning.\n",
            "22:45:01.489 [main] WARN org.terrier.querying.ApplyTermPipeline - The index has no termpipelines configuration, and no control configuration is found. Defaulting to global termpipelines configuration of 'Stopwords,PorterStemmer'. Set a termpipelines control to remove this warning.\n",
            "22:45:45.736 [main] WARN org.terrier.querying.ApplyTermPipeline - The index has no termpipelines configuration, and no control configuration is found. Defaulting to global termpipelines configuration of 'Stopwords,PorterStemmer'. Set a termpipelines control to remove this warning.\n",
            "22:45:54.304 [main] WARN org.terrier.querying.ApplyTermPipeline - The index has no termpipelines configuration, and no control configuration is found. Defaulting to global termpipelines configuration of 'Stopwords,PorterStemmer'. Set a termpipelines control to remove this warning.\n"
          ]
        },
        {
          "output_type": "stream",
          "name": "stderr",
          "text": [
            "[Parallel(n_jobs=2)]: Using backend ThreadingBackend with 2 concurrent workers.\n",
            "[Parallel(n_jobs=2)]: Done  46 tasks      | elapsed:    0.0s\n",
            "[Parallel(n_jobs=2)]: Done 196 tasks      | elapsed:    0.1s\n",
            "[Parallel(n_jobs=2)]: Done 400 out of 400 | elapsed:    0.3s finished\n"
          ]
        },
        {
          "output_type": "stream",
          "name": "stdout",
          "text": [
            "22:46:38.708 [main] WARN org.terrier.querying.ApplyTermPipeline - The index has no termpipelines configuration, and no control configuration is found. Defaulting to global termpipelines configuration of 'Stopwords,PorterStemmer'. Set a termpipelines control to remove this warning.\n",
            "22:46:47.440 [main] WARN org.terrier.querying.ApplyTermPipeline - The index has no termpipelines configuration, and no control configuration is found. Defaulting to global termpipelines configuration of 'Stopwords,PorterStemmer'. Set a termpipelines control to remove this warning.\n"
          ]
        },
        {
          "output_type": "execute_result",
          "data": {
            "text/plain": [
              "                name       map   P_5      ndcg  ndcg_cut_10\n",
              "0  Coordinate Ascent  0.888699  0.98  0.960590     0.948699\n",
              "1      Random Forest  0.745524  0.95  0.902110     0.857831\n",
              "2         LambdaMART  0.798203  0.94  0.922458     0.892532\n",
              "3               BM25  0.886963  0.98  0.960190     0.942269\n",
              "4             TF-IDF  0.886963  0.98  0.960582     0.942269\n",
              "5      Random System  0.157717  0.49  0.522546     0.387979"
            ],
            "text/html": [
              "\n",
              "  <div id=\"df-88287946-5858-4f92-acae-8fa3df277094\">\n",
              "    <div class=\"colab-df-container\">\n",
              "      <div>\n",
              "<style scoped>\n",
              "    .dataframe tbody tr th:only-of-type {\n",
              "        vertical-align: middle;\n",
              "    }\n",
              "\n",
              "    .dataframe tbody tr th {\n",
              "        vertical-align: top;\n",
              "    }\n",
              "\n",
              "    .dataframe thead th {\n",
              "        text-align: right;\n",
              "    }\n",
              "</style>\n",
              "<table border=\"1\" class=\"dataframe\">\n",
              "  <thead>\n",
              "    <tr style=\"text-align: right;\">\n",
              "      <th></th>\n",
              "      <th>name</th>\n",
              "      <th>map</th>\n",
              "      <th>P_5</th>\n",
              "      <th>ndcg</th>\n",
              "      <th>ndcg_cut_10</th>\n",
              "    </tr>\n",
              "  </thead>\n",
              "  <tbody>\n",
              "    <tr>\n",
              "      <th>0</th>\n",
              "      <td>Coordinate Ascent</td>\n",
              "      <td>0.888699</td>\n",
              "      <td>0.98</td>\n",
              "      <td>0.960590</td>\n",
              "      <td>0.948699</td>\n",
              "    </tr>\n",
              "    <tr>\n",
              "      <th>1</th>\n",
              "      <td>Random Forest</td>\n",
              "      <td>0.745524</td>\n",
              "      <td>0.95</td>\n",
              "      <td>0.902110</td>\n",
              "      <td>0.857831</td>\n",
              "    </tr>\n",
              "    <tr>\n",
              "      <th>2</th>\n",
              "      <td>LambdaMART</td>\n",
              "      <td>0.798203</td>\n",
              "      <td>0.94</td>\n",
              "      <td>0.922458</td>\n",
              "      <td>0.892532</td>\n",
              "    </tr>\n",
              "    <tr>\n",
              "      <th>3</th>\n",
              "      <td>BM25</td>\n",
              "      <td>0.886963</td>\n",
              "      <td>0.98</td>\n",
              "      <td>0.960190</td>\n",
              "      <td>0.942269</td>\n",
              "    </tr>\n",
              "    <tr>\n",
              "      <th>4</th>\n",
              "      <td>TF-IDF</td>\n",
              "      <td>0.886963</td>\n",
              "      <td>0.98</td>\n",
              "      <td>0.960582</td>\n",
              "      <td>0.942269</td>\n",
              "    </tr>\n",
              "    <tr>\n",
              "      <th>5</th>\n",
              "      <td>Random System</td>\n",
              "      <td>0.157717</td>\n",
              "      <td>0.49</td>\n",
              "      <td>0.522546</td>\n",
              "      <td>0.387979</td>\n",
              "    </tr>\n",
              "  </tbody>\n",
              "</table>\n",
              "</div>\n",
              "      <button class=\"colab-df-convert\" onclick=\"convertToInteractive('df-88287946-5858-4f92-acae-8fa3df277094')\"\n",
              "              title=\"Convert this dataframe to an interactive table.\"\n",
              "              style=\"display:none;\">\n",
              "        \n",
              "  <svg xmlns=\"http://www.w3.org/2000/svg\" height=\"24px\"viewBox=\"0 0 24 24\"\n",
              "       width=\"24px\">\n",
              "    <path d=\"M0 0h24v24H0V0z\" fill=\"none\"/>\n",
              "    <path d=\"M18.56 5.44l.94 2.06.94-2.06 2.06-.94-2.06-.94-.94-2.06-.94 2.06-2.06.94zm-11 1L8.5 8.5l.94-2.06 2.06-.94-2.06-.94L8.5 2.5l-.94 2.06-2.06.94zm10 10l.94 2.06.94-2.06 2.06-.94-2.06-.94-.94-2.06-.94 2.06-2.06.94z\"/><path d=\"M17.41 7.96l-1.37-1.37c-.4-.4-.92-.59-1.43-.59-.52 0-1.04.2-1.43.59L10.3 9.45l-7.72 7.72c-.78.78-.78 2.05 0 2.83L4 21.41c.39.39.9.59 1.41.59.51 0 1.02-.2 1.41-.59l7.78-7.78 2.81-2.81c.8-.78.8-2.07 0-2.86zM5.41 20L4 18.59l7.72-7.72 1.47 1.35L5.41 20z\"/>\n",
              "  </svg>\n",
              "      </button>\n",
              "      \n",
              "  <style>\n",
              "    .colab-df-container {\n",
              "      display:flex;\n",
              "      flex-wrap:wrap;\n",
              "      gap: 12px;\n",
              "    }\n",
              "\n",
              "    .colab-df-convert {\n",
              "      background-color: #E8F0FE;\n",
              "      border: none;\n",
              "      border-radius: 50%;\n",
              "      cursor: pointer;\n",
              "      display: none;\n",
              "      fill: #1967D2;\n",
              "      height: 32px;\n",
              "      padding: 0 0 0 0;\n",
              "      width: 32px;\n",
              "    }\n",
              "\n",
              "    .colab-df-convert:hover {\n",
              "      background-color: #E2EBFA;\n",
              "      box-shadow: 0px 1px 2px rgba(60, 64, 67, 0.3), 0px 1px 3px 1px rgba(60, 64, 67, 0.15);\n",
              "      fill: #174EA6;\n",
              "    }\n",
              "\n",
              "    [theme=dark] .colab-df-convert {\n",
              "      background-color: #3B4455;\n",
              "      fill: #D2E3FC;\n",
              "    }\n",
              "\n",
              "    [theme=dark] .colab-df-convert:hover {\n",
              "      background-color: #434B5C;\n",
              "      box-shadow: 0px 1px 3px 1px rgba(0, 0, 0, 0.15);\n",
              "      filter: drop-shadow(0px 1px 2px rgba(0, 0, 0, 0.3));\n",
              "      fill: #FFFFFF;\n",
              "    }\n",
              "  </style>\n",
              "\n",
              "      <script>\n",
              "        const buttonEl =\n",
              "          document.querySelector('#df-88287946-5858-4f92-acae-8fa3df277094 button.colab-df-convert');\n",
              "        buttonEl.style.display =\n",
              "          google.colab.kernel.accessAllowed ? 'block' : 'none';\n",
              "\n",
              "        async function convertToInteractive(key) {\n",
              "          const element = document.querySelector('#df-88287946-5858-4f92-acae-8fa3df277094');\n",
              "          const dataTable =\n",
              "            await google.colab.kernel.invokeFunction('convertToInteractive',\n",
              "                                                     [key], {});\n",
              "          if (!dataTable) return;\n",
              "\n",
              "          const docLinkHtml = 'Like what you see? Visit the ' +\n",
              "            '<a target=\"_blank\" href=https://colab.research.google.com/notebooks/data_table.ipynb>data table notebook</a>'\n",
              "            + ' to learn more about interactive tables.';\n",
              "          element.innerHTML = '';\n",
              "          dataTable['output_type'] = 'display_data';\n",
              "          await google.colab.output.renderOutput(dataTable, element);\n",
              "          const docLink = document.createElement('div');\n",
              "          docLink.innerHTML = docLinkHtml;\n",
              "          element.appendChild(docLink);\n",
              "        }\n",
              "      </script>\n",
              "    </div>\n",
              "  </div>\n",
              "  "
            ]
          },
          "metadata": {},
          "execution_count": 135
        }
      ]
    },
    {
      "cell_type": "code",
      "source": [
        "%matplotlib inline\n",
        "import matplotlib.pyplot as plt, numpy as np\n",
        "\n",
        "fig, (ax0, ax1, ax2) = plt.subplots(1, 3, figsize=(14, 6))\n",
        "\n",
        "ax0.bar(np.arange(len(fnames)), ca_pipe[1].model.to_dict()['Linear']['weights'])\n",
        "ax0.set_xticks(np.arange(len(fnames)))\n",
        "ax0.set_xticklabels(fnames, rotation=45, ha='right')\n",
        "ax0.set_title(\"Coordinate Ascent\\n Feature Weights\")\n",
        "ax0.set_yscale('log')\n",
        "\n",
        "ax1.bar(np.arange(len(fnames)), rf.feature_importances_)\n",
        "ax1.set_xticks(np.arange(len(fnames)))\n",
        "ax1.set_xticklabels(fnames, rotation=45, ha='right')\n",
        "ax1.set_title(\"Random Forests\\n Feature Importance\")\n",
        "\n",
        "ax2.bar(np.arange(len(fnames)), lmart_l.feature_importances_)\n",
        "ax2.set_xticks(np.arange(len(fnames)))\n",
        "ax2.set_xticklabels(fnames, rotation=45, ha='right')\n",
        "ax2.set_title(\"$\\lambda$MART\\n Feature Importance\")\n",
        "\n",
        "fig.show()"
      ],
      "metadata": {
        "colab": {
          "base_uri": "https://localhost:8080/",
          "height": 462
        },
        "id": "Y_4ZffEW97vs",
        "outputId": "01f03da4-5cfe-4748-fcd3-5e1ea6df84a3"
      },
      "execution_count": null,
      "outputs": [
        {
          "output_type": "display_data",
          "data": {
            "text/plain": [
              "<Figure size 1008x432 with 3 Axes>"
            ],
            "image/png": "[encoded data removed]"
          },
          "metadata": {
            "needs_background": "light"
          }
        }
      ]
    }
  ]
}